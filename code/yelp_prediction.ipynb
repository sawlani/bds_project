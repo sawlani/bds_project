{
  "nbformat": 4,
  "nbformat_minor": 0,
  "metadata": {
    "colab": {
      "name": "yelp_prediction.ipynb",
      "provenance": [],
      "include_colab_link": true
    },
    "kernelspec": {
      "name": "python3",
      "display_name": "Python 3"
    },
    "accelerator": "GPU"
  },
  "cells": [
    {
      "cell_type": "markdown",
      "metadata": {
        "id": "view-in-github",
        "colab_type": "text"
      },
      "source": [
        "<a href=\"https://colab.research.google.com/github/anon560096/bds_project/blob/master/code/yelp_prediction.ipynb\" target=\"_parent\"><img src=\"https://colab.research.google.com/assets/colab-badge.svg\" alt=\"Open In Colab\"/></a>"
      ]
    },
    {
      "cell_type": "code",
      "metadata": {
        "id": "ce0SIvUN1zWr",
        "colab_type": "code",
        "colab": {}
      },
      "source": [
        "%reload_ext autoreload\n",
        "%autoreload 2\n",
        "%matplotlib inline"
      ],
      "execution_count": 0,
      "outputs": []
    },
    {
      "cell_type": "code",
      "metadata": {
        "id": "D19e96TG11cp",
        "colab_type": "code",
        "colab": {}
      },
      "source": [
        "from fastai import *\n",
        "from fastai.vision import *\n",
        "from fastai.callbacks import *\n",
        "from shutil import copyfile\n",
        "from sklearn.manifold import TSNE\n",
        "import seaborn as sns\n",
        "from sklearn import manifold, datasets\n",
        "from sklearn.metrics.pairwise import pairwise_distances\n",
        "from sklearn.metrics import confusion_matrix\n",
        "from scipy.spatial.distance import squareform\n",
        "from matplotlib.offsetbox import OffsetImage, AnnotationBbox\n",
        "from matplotlib.ticker import NullFormatter\n",
        "from google.colab import files\n",
        "import PIL\n",
        "import json"
      ],
      "execution_count": 0,
      "outputs": []
    },
    {
      "cell_type": "code",
      "metadata": {
        "id": "J-NHPpr89qSO",
        "colab_type": "code",
        "colab": {}
      },
      "source": [
        "!mkdir -p /content/data\n",
        "!mkdir -p /content/data/models"
      ],
      "execution_count": 0,
      "outputs": []
    },
    {
      "cell_type": "code",
      "metadata": {
        "id": "_G2IiZ5pLKc7",
        "colab_type": "code",
        "outputId": "161c7a9d-c86d-4690-d838-d4dffd57aa05",
        "colab": {
          "base_uri": "https://localhost:8080/",
          "height": 122
        }
      },
      "source": [
        "# Mount drive for dataset\n",
        "from google.colab import drive\n",
        "drive.mount('/content/drive/')"
      ],
      "execution_count": 0,
      "outputs": [
        {
          "output_type": "stream",
          "text": [
            "Go to this URL in a browser: https://accounts.google.com/o/oauth2/auth?client_id=947318989803-6bn6qk8qdgf4n4g3pfee6491hc0brc4i.apps.googleusercontent.com&redirect_uri=urn%3aietf%3awg%3aoauth%3a2.0%3aoob&response_type=code&scope=email%20https%3a%2f%2fwww.googleapis.com%2fauth%2fdocs.test%20https%3a%2f%2fwww.googleapis.com%2fauth%2fdrive%20https%3a%2f%2fwww.googleapis.com%2fauth%2fdrive.photos.readonly%20https%3a%2f%2fwww.googleapis.com%2fauth%2fpeopleapi.readonly\n",
            "\n",
            "Enter your authorization code:\n",
            "··········\n",
            "Mounted at /content/drive/\n"
          ],
          "name": "stdout"
        }
      ]
    },
    {
      "cell_type": "code",
      "metadata": {
        "id": "MPWJIkge5pbO",
        "colab_type": "code",
        "colab": {}
      },
      "source": [
        "# print('Upload tar file for yelp photos')\n",
        "# os.chdir('/content/data/')\n",
        "# uploaded = files.upload()\n",
        "!cp drive/My\\ Drive/yelp_photos.tar data/"
      ],
      "execution_count": 0,
      "outputs": []
    },
    {
      "cell_type": "code",
      "metadata": {
        "id": "5VDKZVrx59bO",
        "colab_type": "code",
        "outputId": "f2a47336-ec83-48ce-d720-b89f6d5503cf",
        "colab": {
          "base_uri": "https://localhost:8080/",
          "height": 85
        }
      },
      "source": [
        "print('Extracting yelp photos...')\n",
        "!tar -xvf 'data/yelp_photos.tar' > filenames.txt\n",
        "print('Done extraction. Deleting the tar file...')\n",
        "!rm yelp_photos.tar\n",
        "print('Deleted!')"
      ],
      "execution_count": 0,
      "outputs": [
        {
          "output_type": "stream",
          "text": [
            "Extracting yelp photos...\n",
            "Done extraction. Deleting the tar file...\n",
            "rm: cannot remove 'yelp_photos.tar': No such file or directory\n",
            "Deleted!\n"
          ],
          "name": "stdout"
        }
      ]
    },
    {
      "cell_type": "code",
      "metadata": {
        "id": "lcF8vVxq6JCT",
        "colab_type": "code",
        "colab": {}
      },
      "source": [
        "# print('Upload the trained model \\'.pkl\\' file')\n",
        "# os.chdir('/content/data/models/')\n",
        "# uploaded = files.upload()\n",
        "!cp drive/My\\ Drive/trained_model.pkl data/models/"
      ],
      "execution_count": 0,
      "outputs": []
    },
    {
      "cell_type": "code",
      "metadata": {
        "id": "TDjAntz013Wl",
        "colab_type": "code",
        "colab": {}
      },
      "source": [
        "path = Path('')\n",
        "os.chdir('/content/')\n",
        "test_data = ImageList.from_folder(path/'photos')\n",
        "learnt_model = load_learner(path/'data/models', 'trained_model.pkl', test=test_data)"
      ],
      "execution_count": 0,
      "outputs": []
    },
    {
      "cell_type": "code",
      "metadata": {
        "id": "hHvW17Gb2Ks5",
        "colab_type": "code",
        "colab": {}
      },
      "source": [
        "class_to_index = learnt_model.data.c2i\n",
        "index_to_class = {}\n",
        "for key,val in class_to_index.items():\n",
        "  index_to_class[val] = key"
      ],
      "execution_count": 0,
      "outputs": []
    },
    {
      "cell_type": "code",
      "metadata": {
        "id": "LDMrvtz92Eed",
        "colab_type": "code",
        "colab": {}
      },
      "source": [
        "learnt_model = learnt_model.to_fp32()\n",
        "preds, _ = learnt_model.get_preds(ds_type=DatasetType.Test)\n",
        "labels = np.argmax(preds, 1)"
      ],
      "execution_count": 0,
      "outputs": []
    },
    {
      "cell_type": "code",
      "metadata": {
        "id": "SUSiJLMW27qb",
        "colab_type": "code",
        "colab": {}
      },
      "source": [
        "# print(labels)\n",
        "# print(index_to_class)\n",
        "# print(test_data.items)\n",
        "labels = labels.numpy()\n",
        "\n",
        "with open('/content/data/labels.json', 'w+') as f:\n",
        "  for i, img_path in enumerate(test_data.items):\n",
        "    json_data = {}\n",
        "    img_name = os.path.basename(os.path.normpath(img_path.stem))\n",
        "    img_id = os.path.splitext(img_name)[0]\n",
        "    json_data['id'] = img_id\n",
        "    json_data['101_label'] = index_to_class[labels[i]]\n",
        "    if i == 0:\n",
        "      f.write(json.dumps(json_data))\n",
        "    else:\n",
        "      f.write('\\n' + json.dumps(json_data))\n",
        "f.close()\n"
      ],
      "execution_count": 0,
      "outputs": []
    }
  ]
}