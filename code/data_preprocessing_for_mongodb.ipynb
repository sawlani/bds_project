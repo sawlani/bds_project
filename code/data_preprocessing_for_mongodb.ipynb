{
  "nbformat": 4,
  "nbformat_minor": 0,
  "metadata": {
    "colab": {
      "name": "data_preprocessing.ipynb",
      "provenance": [],
      "collapsed_sections": [],
      "include_colab_link": true
    },
    "kernelspec": {
      "name": "python3",
      "display_name": "Python 3"
    },
    "accelerator": "GPU"
  },
  "cells": [
    {
      "cell_type": "markdown",
      "metadata": {
        "id": "view-in-github",
        "colab_type": "text"
      },
      "source": [
        "<a href=\"https://colab.research.google.com/github/anon560096/bds_project/blob/master/code/data_preprocessing_for_mongodb.ipynb\" target=\"_parent\"><img src=\"https://colab.research.google.com/assets/colab-badge.svg\" alt=\"Open In Colab\"/></a>"
      ]
    },
    {
      "cell_type": "markdown",
      "metadata": {
        "id": "ehDO9EHyp76-",
        "colab_type": "text"
      },
      "source": [
        "The cells below are for finding out the unique cities in business.json"
      ]
    },
    {
      "cell_type": "code",
      "metadata": {
        "id": "AIvxE2xVqGpE",
        "colab_type": "code",
        "colab": {}
      },
      "source": [
        "import json"
      ],
      "execution_count": 0,
      "outputs": []
    },
    {
      "cell_type": "code",
      "metadata": {
        "id": "v-gX8yESdOZV",
        "colab_type": "code",
        "colab": {}
      },
      "source": [
        "cities = []\n",
        "with open('business.json', 'r') as f:\n",
        "  for line in f:\n",
        "    business = json.loads(line)\n",
        "    cities.append(business['city'])\n",
        "f.close()"
      ],
      "execution_count": 0,
      "outputs": []
    },
    {
      "cell_type": "code",
      "metadata": {
        "id": "aBYBoxNTexW8",
        "colab_type": "code",
        "colab": {}
      },
      "source": [
        "city_count = {}\n",
        "for city in cities:\n",
        "  if city in city_count:\n",
        "    city_count[city] += 1\n",
        "  else:\n",
        "    city_count[city] = 1"
      ],
      "execution_count": 0,
      "outputs": []
    },
    {
      "cell_type": "code",
      "metadata": {
        "id": "5zPaIURAe74-",
        "colab_type": "code",
        "colab": {}
      },
      "source": [
        "with open('city_count.txt', 'w+') as f:\n",
        "  for city, count in city_count.items():\n",
        "    new_line = \"City: \" + str(city) + \" Count: \" + str(count)\n",
        "    print(new_line)\n",
        "    f.write(new_line)\n",
        "f.close()"
      ],
      "execution_count": 0,
      "outputs": []
    },
    {
      "cell_type": "code",
      "metadata": {
        "id": "r9FyiMnCfI4z",
        "colab_type": "code",
        "colab": {}
      },
      "source": [
        "import operator\n",
        "sorted_cities = sorted(city_count.items(), key=operator.itemgetter(1), reverse=True)\n",
        "sorted_cities = [city[0] for city in sorted_cities[:30]]\n",
        "print(sorted_cities)"
      ],
      "execution_count": 0,
      "outputs": []
    },
    {
      "cell_type": "code",
      "metadata": {
        "id": "HIwBoz4aqNob",
        "colab_type": "code",
        "colab": {}
      },
      "source": [
        ""
      ],
      "execution_count": 0,
      "outputs": []
    },
    {
      "cell_type": "markdown",
      "metadata": {
        "id": "tj6g0AuHqOMZ",
        "colab_type": "text"
      },
      "source": [
        "The cells below are for preprocessing of JSON files"
      ]
    },
    {
      "cell_type": "code",
      "metadata": {
        "id": "rYGGQW-AqVDS",
        "colab_type": "code",
        "colab": {}
      },
      "source": [
        "import pymongo\n",
        "from pprint import pprint\n",
        "import json\n",
        "from pymongo import MongoClient, GEO2D\n",
        "import requests\n",
        "import json"
      ],
      "execution_count": 0,
      "outputs": []
    },
    {
      "cell_type": "code",
      "metadata": {
        "id": "FvoOIyIeqGer",
        "colab_type": "code",
        "colab": {}
      },
      "source": [
        "def setup_python():\n",
        "  business = {}\n",
        "  labels = {}\n",
        "  photos = {}\n",
        "  num_photo = 0\n",
        "  num_matched = 0\n",
        "  yes_hours = 0\n",
        "  no_hours = 0\n",
        "\n",
        "  with open('business.json') as f:\n",
        "    for line in f:\n",
        "      b = json.loads(line)\n",
        "      business[b['business_id']] = b\n",
        "\n",
        "  with open('photo.json') as f:\n",
        "    for line in f:\n",
        "      p = json.loads(line)\n",
        "      photos[p['photo_id']] = p\n",
        "  \n",
        "  with open('labels.json') as f:\n",
        "    for line in f:\n",
        "      l = json.loads(line)\n",
        "      labels[l['id']] = l\n",
        "\n",
        "  with open('photos_new.json', 'w+') as f: \n",
        "    for photo_id, photo in photos.items():\n",
        "      num_photo = num_photo + 1\n",
        "      data = business[photo['business_id']]\n",
        "      label = labels[photo_id]\n",
        "      if data != None:\n",
        "        num_matched = num_matched + 1\n",
        "        stars = data['stars']\n",
        "        longitude = data['longitude']\n",
        "        latitude = data['latitude']\n",
        "        hours = None\n",
        "        business_id = data['business_id']\n",
        "        city = data['city']\n",
        "        categories_temp = data['categories'].split(',')\n",
        "        categories = []\n",
        "        for c in categories_temp:\n",
        "          categories.append(c.strip())\n",
        "\n",
        "        if 'hours' not in data:\n",
        "          no_hours = no_hours + 1\n",
        "        else:\n",
        "          hours = data['hours']\n",
        "\n",
        "        photo_new = photo\n",
        "\n",
        "        if hours != None :\n",
        "          temp = hours.get(list(hours.keys())[0]).split(\"-\")\n",
        "          opening_time = temp[0].split(':')\n",
        "          open_hours = int(opening_time[0])\n",
        "          open_hours = (open_hours * 60) + int(opening_time[1])\n",
        "\n",
        "          closing_time = temp[1].split(':')\n",
        "          close_hours = int(closing_time[0])\n",
        "          close_hours = (close_hours*60) + int(closing_time[1])\n",
        "\n",
        "          # db.photos.update_many({'business_id': photo['business_id']},{'$set': {'opening_time': int(open_hours),'closing_time': int(close_hours)}},upsert=False)\n",
        "          photo_new['opening_time'] = int(open_hours)\n",
        "          photo_new['closing_time'] = int(close_hours)\n",
        "\n",
        "          yes_hours = yes_hours + 1\n",
        "\n",
        "        coord = [float(longitude), float(latitude)]\n",
        "        photo_new['business rating'] = stars\n",
        "        photo_new['categories'] = categories\n",
        "        photo_new['loc'] = {'coordinates':coord, 'type':\"Point\"}\n",
        "        photo_new['101_label'] = label['101_label']\n",
        "        photo_new['city'] = city\n",
        "\n",
        "        f.write(json.dumps(photo_new) + '\\n')\n",
        "        # db.photos.update_many({'business_id': photo['business_id']},{'$set': {'business rating': stars, 'business id': stars, 'categories': categories,\n",
        "        #           'loc': {'coordinates':coord, 'type':\"Point\"}}}, upsert=False)\n",
        "    \n",
        "        # db.photos.update_many({'photo_id': photo['photo_id']}, {'$set': {'101_label': label['101_label']}})\n",
        "\n"
      ],
      "execution_count": 0,
      "outputs": []
    },
    {
      "cell_type": "code",
      "metadata": {
        "id": "SEHPB5lLt5Xu",
        "colab_type": "code",
        "colab": {}
      },
      "source": [
        "import json\n",
        "setup_python()"
      ],
      "execution_count": 0,
      "outputs": []
    }
  ]
}